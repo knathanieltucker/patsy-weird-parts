{
 "cells": [
  {
   "cell_type": "markdown",
   "metadata": {},
   "source": [
    "## Formula Operators\n",
    "\n",
    "Precedence:\n",
    "\n",
    "~ < +- < */ < : < **"
   ]
  },
  {
   "cell_type": "code",
   "execution_count": 47,
   "metadata": {
    "collapsed": true
   },
   "outputs": [],
   "source": [
    "from IPython.core.interactiveshell import InteractiveShell\n",
    "InteractiveShell.ast_node_interactivity = \"all\""
   ]
  },
  {
   "cell_type": "code",
   "execution_count": 48,
   "metadata": {
    "collapsed": true
   },
   "outputs": [],
   "source": [
    "from patsy import dmatrix, dmatrices, demo_data"
   ]
  },
  {
   "cell_type": "code",
   "execution_count": 49,
   "metadata": {
    "collapsed": false
   },
   "outputs": [
    {
     "data": {
      "text/plain": [
       "(DesignMatrix with shape (8, 1)\n",
       "          y\n",
       "    1.49408\n",
       "   -0.20516\n",
       "    0.31307\n",
       "   -0.85410\n",
       "   -2.55299\n",
       "    0.65362\n",
       "    0.86444\n",
       "   -0.74217\n",
       "   Terms:\n",
       "     'y' (column 0),\n",
       " DesignMatrix with shape (8, 2)\n",
       "   Intercept        x1\n",
       "           1   1.76405\n",
       "           1   0.40016\n",
       "           1   0.97874\n",
       "           1   2.24089\n",
       "           1   1.86756\n",
       "           1  -0.97728\n",
       "           1   0.95009\n",
       "           1  -0.15136\n",
       "   Terms:\n",
       "     'Intercept' (column 0)\n",
       "     'x1' (column 1))"
      ]
     },
     "execution_count": 49,
     "metadata": {},
     "output_type": "execute_result"
    }
   ],
   "source": [
    "data = demo_data(\"a\", \"b\", \"x1\", \"x2\", \"y\", \"z column\")\n",
    "\n",
    "dmatrices(\"y ~ x1\", data)"
   ]
  },
  {
   "cell_type": "code",
   "execution_count": 50,
   "metadata": {
    "collapsed": false
   },
   "outputs": [
    {
     "data": {
      "text/plain": [
       "DesignMatrix with shape (8, 3)\n",
       "  Intercept        x1        x2\n",
       "          1   1.76405  -0.10322\n",
       "          1   0.40016   0.41060\n",
       "          1   0.97874   0.14404\n",
       "          1   2.24089   1.45427\n",
       "          1   1.86756   0.76104\n",
       "          1  -0.97728   0.12168\n",
       "          1   0.95009   0.44386\n",
       "          1  -0.15136   0.33367\n",
       "  Terms:\n",
       "    'Intercept' (column 0)\n",
       "    'x1' (column 1)\n",
       "    'x2' (column 2)"
      ]
     },
     "execution_count": 50,
     "metadata": {},
     "output_type": "execute_result"
    }
   ],
   "source": [
    "dmatrix(\"x1 + x2\", data)"
   ]
  },
  {
   "cell_type": "code",
   "execution_count": 51,
   "metadata": {
    "collapsed": false
   },
   "outputs": [
    {
     "data": {
      "text/plain": [
       "DesignMatrix with shape (8, 2)\n",
       "  Intercept        x1\n",
       "          1   1.76405\n",
       "          1   0.40016\n",
       "          1   0.97874\n",
       "          1   2.24089\n",
       "          1   1.86756\n",
       "          1  -0.97728\n",
       "          1   0.95009\n",
       "          1  -0.15136\n",
       "  Terms:\n",
       "    'Intercept' (column 0)\n",
       "    'x1' (column 1)"
      ]
     },
     "execution_count": 51,
     "metadata": {},
     "output_type": "execute_result"
    }
   ],
   "source": [
    "dmatrix(\"x1 + x1\", data)"
   ]
  },
  {
   "cell_type": "code",
   "execution_count": 52,
   "metadata": {
    "collapsed": false
   },
   "outputs": [
    {
     "data": {
      "text/plain": [
       "DesignMatrix with shape (8, 2)\n",
       "  Intercept     x1:x2\n",
       "          1  -0.18208\n",
       "          1   0.16430\n",
       "          1   0.14098\n",
       "          1   3.25887\n",
       "          1   1.42128\n",
       "          1  -0.11891\n",
       "          1   0.42171\n",
       "          1  -0.05050\n",
       "  Terms:\n",
       "    'Intercept' (column 0)\n",
       "    'x1:x2' (column 1)"
      ]
     },
     "execution_count": 52,
     "metadata": {},
     "output_type": "execute_result"
    }
   ],
   "source": [
    "dmatrix(\"x1 : x2\", data)"
   ]
  },
  {
   "cell_type": "code",
   "execution_count": 53,
   "metadata": {
    "collapsed": false
   },
   "outputs": [
    {
     "data": {
      "text/plain": [
       "DesignMatrix with shape (8, 2)\n",
       "  Intercept        x1\n",
       "          1   1.76405\n",
       "          1   0.40016\n",
       "          1   0.97874\n",
       "          1   2.24089\n",
       "          1   1.86756\n",
       "          1  -0.97728\n",
       "          1   0.95009\n",
       "          1  -0.15136\n",
       "  Terms:\n",
       "    'Intercept' (column 0)\n",
       "    'x1' (column 1)"
      ]
     },
     "execution_count": 53,
     "metadata": {},
     "output_type": "execute_result"
    }
   ],
   "source": [
    "dmatrix(\"x1 : x1\", data)"
   ]
  },
  {
   "cell_type": "code",
   "execution_count": 25,
   "metadata": {
    "collapsed": false
   },
   "outputs": [
    {
     "data": {
      "text/plain": [
       "DesignMatrix with shape (8, 7)\n",
       "  Intercept  x1:a[a1]  x1:a[a2]  x1:b[T.b2]  x2:a[a1]  x2:a[a2]  x2:b[T.b2]\n",
       "          1   1.76405   0.00000     0.00000  -0.10322  -0.00000    -0.00000\n",
       "          1   0.40016   0.00000     0.40016   0.41060   0.00000     0.41060\n",
       "          1   0.00000   0.97874     0.00000   0.00000   0.14404     0.00000\n",
       "          1   0.00000   2.24089     2.24089   0.00000   1.45427     1.45427\n",
       "          1   1.86756   0.00000     0.00000   0.76104   0.00000     0.00000\n",
       "          1  -0.97728  -0.00000    -0.97728   0.12168   0.00000     0.12168\n",
       "          1   0.00000   0.95009     0.00000   0.00000   0.44386     0.00000\n",
       "          1  -0.00000  -0.15136    -0.15136   0.00000   0.33367     0.33367\n",
       "  Terms:\n",
       "    'Intercept' (column 0)\n",
       "    'x1:a' (columns 1:3)\n",
       "    'x1:b' (column 3)\n",
       "    'x2:a' (columns 4:6)\n",
       "    'x2:b' (column 6)"
      ]
     },
     "execution_count": 25,
     "metadata": {},
     "output_type": "execute_result"
    }
   ],
   "source": [
    "dmatrix(\"(x1 + x2) : (a + b)\", data)"
   ]
  },
  {
   "cell_type": "code",
   "execution_count": 26,
   "metadata": {
    "collapsed": false
   },
   "outputs": [
    {
     "data": {
      "text/plain": [
       "DesignMatrix with shape (8, 2)\n",
       "  Intercept   x1:x2:y\n",
       "          1  -0.27205\n",
       "          1  -0.03371\n",
       "          1   0.04414\n",
       "          1  -2.78339\n",
       "          1  -3.62852\n",
       "          1  -0.07772\n",
       "          1   0.36454\n",
       "          1   0.03748\n",
       "  Terms:\n",
       "    'Intercept' (column 0)\n",
       "    'x1:x2:y' (column 1)"
      ]
     },
     "execution_count": 26,
     "metadata": {},
     "output_type": "execute_result"
    }
   ],
   "source": [
    "dmatrix(\"x1 : x2 : y\", data)"
   ]
  },
  {
   "cell_type": "code",
   "execution_count": 28,
   "metadata": {
    "collapsed": false
   },
   "outputs": [
    {
     "data": {
      "text/plain": [
       "DesignMatrix with shape (8, 3)\n",
       "  Intercept  x1:x2:b[b1]  x1:x2:b[b2]\n",
       "          1     -0.18208     -0.00000\n",
       "          1      0.00000      0.16430\n",
       "          1      0.14098      0.00000\n",
       "          1      0.00000      3.25887\n",
       "          1      1.42128      0.00000\n",
       "          1     -0.00000     -0.11891\n",
       "          1      0.42171      0.00000\n",
       "          1     -0.00000     -0.05050\n",
       "  Terms:\n",
       "    'Intercept' (column 0)\n",
       "    'x1:x2:b' (columns 1:3)"
      ]
     },
     "execution_count": 28,
     "metadata": {},
     "output_type": "execute_result"
    }
   ],
   "source": [
    "dmatrix(\"(x1 : x2) : (x1 : b)\", data)"
   ]
  },
  {
   "cell_type": "code",
   "execution_count": 20,
   "metadata": {
    "collapsed": false
   },
   "outputs": [
    {
     "data": {
      "text/plain": [
       "DesignMatrix with shape (8, 4)\n",
       "  Intercept  a[T.a2]        x1  x1:a[T.a2]\n",
       "          1        0   1.76405     0.00000\n",
       "          1        0   0.40016     0.00000\n",
       "          1        1   0.97874     0.97874\n",
       "          1        1   2.24089     2.24089\n",
       "          1        0   1.86756     0.00000\n",
       "          1        0  -0.97728    -0.00000\n",
       "          1        1   0.95009     0.95009\n",
       "          1        1  -0.15136    -0.15136\n",
       "  Terms:\n",
       "    'Intercept' (column 0)\n",
       "    'a' (column 1)\n",
       "    'x1' (column 2)\n",
       "    'x1:a' (column 3)"
      ]
     },
     "execution_count": 20,
     "metadata": {},
     "output_type": "execute_result"
    }
   ],
   "source": [
    "dmatrix(\"x1 * a\", data)"
   ]
  },
  {
   "cell_type": "code",
   "execution_count": 12,
   "metadata": {
    "collapsed": false
   },
   "outputs": [
    {
     "data": {
      "text/plain": [
       "DesignMatrix with shape (8, 4)\n",
       "  Intercept        x1        x2     x1:x2\n",
       "          1   1.76405  -0.10322  -0.18208\n",
       "          1   0.40016   0.41060   0.16430\n",
       "          1   0.97874   0.14404   0.14098\n",
       "          1   2.24089   1.45427   3.25887\n",
       "          1   1.86756   0.76104   1.42128\n",
       "          1  -0.97728   0.12168  -0.11891\n",
       "          1   0.95009   0.44386   0.42171\n",
       "          1  -0.15136   0.33367  -0.05050\n",
       "  Terms:\n",
       "    'Intercept' (column 0)\n",
       "    'x1' (column 1)\n",
       "    'x2' (column 2)\n",
       "    'x1:x2' (column 3)"
      ]
     },
     "execution_count": 12,
     "metadata": {},
     "output_type": "execute_result"
    }
   ],
   "source": [
    "dmatrix(\"x1 * x2\", data)"
   ]
  },
  {
   "cell_type": "code",
   "execution_count": 15,
   "metadata": {
    "collapsed": false
   },
   "outputs": [
    {
     "data": {
      "text/plain": [
       "DesignMatrix with shape (8, 8)\n",
       "  Columns:\n",
       "    ['Intercept',\n",
       "     'a[T.a2]',\n",
       "     'x1',\n",
       "     'x1:a[T.a2]',\n",
       "     'x2',\n",
       "     'x2:a[T.a2]',\n",
       "     'x1:x2',\n",
       "     'x1:x2:a[T.a2]']\n",
       "  Terms:\n",
       "    'Intercept' (column 0)\n",
       "    'a' (column 1)\n",
       "    'x1' (column 2)\n",
       "    'x1:a' (column 3)\n",
       "    'x2' (column 4)\n",
       "    'x2:a' (column 5)\n",
       "    'x1:x2' (column 6)\n",
       "    'x1:x2:a' (column 7)\n",
       "  (to view full data, use np.asarray(this_obj))"
      ]
     },
     "execution_count": 15,
     "metadata": {},
     "output_type": "execute_result"
    }
   ],
   "source": [
    "dmatrix(\"x1 * x2 * a\", data)"
   ]
  },
  {
   "cell_type": "code",
   "execution_count": 16,
   "metadata": {
    "collapsed": false
   },
   "outputs": [
    {
     "data": {
      "text/plain": [
       "DesignMatrix with shape (8, 2)\n",
       "  Intercept        x1\n",
       "          1   1.76405\n",
       "          1   0.40016\n",
       "          1   0.97874\n",
       "          1   2.24089\n",
       "          1   1.86756\n",
       "          1  -0.97728\n",
       "          1   0.95009\n",
       "          1  -0.15136\n",
       "  Terms:\n",
       "    'Intercept' (column 0)\n",
       "    'x1' (column 1)"
      ]
     },
     "execution_count": 16,
     "metadata": {},
     "output_type": "execute_result"
    }
   ],
   "source": [
    "dmatrix(\"x1 * x1\", data)"
   ]
  },
  {
   "cell_type": "code",
   "execution_count": 17,
   "metadata": {
    "collapsed": false
   },
   "outputs": [
    {
     "data": {
      "text/plain": [
       "DesignMatrix with shape (8, 3)\n",
       "  Intercept        x2     x1:x2\n",
       "          1  -0.10322  -0.18208\n",
       "          1   0.41060   0.16430\n",
       "          1   0.14404   0.14098\n",
       "          1   1.45427   3.25887\n",
       "          1   0.76104   1.42128\n",
       "          1   0.12168  -0.11891\n",
       "          1   0.44386   0.42171\n",
       "          1   0.33367  -0.05050\n",
       "  Terms:\n",
       "    'Intercept' (column 0)\n",
       "    'x2' (column 1)\n",
       "    'x1:x2' (column 2)"
      ]
     },
     "execution_count": 17,
     "metadata": {},
     "output_type": "execute_result"
    }
   ],
   "source": [
    "dmatrix(\"x1 * x2 - x1\", data)"
   ]
  },
  {
   "cell_type": "code",
   "execution_count": 18,
   "metadata": {
    "collapsed": false
   },
   "outputs": [
    {
     "data": {
      "text/plain": [
       "DesignMatrix with shape (8, 2)\n",
       "  Intercept        x1\n",
       "          1   1.76405\n",
       "          1   0.40016\n",
       "          1   0.97874\n",
       "          1   2.24089\n",
       "          1   1.86756\n",
       "          1  -0.97728\n",
       "          1   0.95009\n",
       "          1  -0.15136\n",
       "  Terms:\n",
       "    'Intercept' (column 0)\n",
       "    'x1' (column 1)"
      ]
     },
     "execution_count": 18,
     "metadata": {},
     "output_type": "execute_result"
    }
   ],
   "source": [
    "dmatrix(\"x1 - x2\", data)"
   ]
  },
  {
   "cell_type": "code",
   "execution_count": 54,
   "metadata": {
    "collapsed": false
   },
   "outputs": [
    {
     "ename": "PatsyError",
     "evalue": "No design matrix has any non-trivial factors, the data object is not a DataFrame. I can't tell how many rows the design matrix should have!",
     "output_type": "error",
     "traceback": [
      "\u001b[0;31m---------------------------------------------------------------------------\u001b[0m",
      "\u001b[0;31mPatsyError\u001b[0m                                Traceback (most recent call last)",
      "\u001b[0;32m<ipython-input-54-482e4f25f9c1>\u001b[0m in \u001b[0;36m<module>\u001b[0;34m()\u001b[0m\n\u001b[0;32m----> 1\u001b[0;31m \u001b[0mdmatrix\u001b[0m\u001b[0;34m(\u001b[0m\u001b[0;34m\"x1 - x1\"\u001b[0m\u001b[0;34m,\u001b[0m \u001b[0mdata\u001b[0m\u001b[0;34m)\u001b[0m\u001b[0;34m\u001b[0m\u001b[0m\n\u001b[0m",
      "\u001b[0;32m//anaconda/lib/python2.7/site-packages/patsy/highlevel.pyc\u001b[0m in \u001b[0;36mdmatrix\u001b[0;34m(formula_like, data, eval_env, NA_action, return_type)\u001b[0m\n\u001b[1;32m    289\u001b[0m     \u001b[0meval_env\u001b[0m \u001b[0;34m=\u001b[0m \u001b[0mEvalEnvironment\u001b[0m\u001b[0;34m.\u001b[0m\u001b[0mcapture\u001b[0m\u001b[0;34m(\u001b[0m\u001b[0meval_env\u001b[0m\u001b[0;34m,\u001b[0m \u001b[0mreference\u001b[0m\u001b[0;34m=\u001b[0m\u001b[0;36m1\u001b[0m\u001b[0;34m)\u001b[0m\u001b[0;34m\u001b[0m\u001b[0m\n\u001b[1;32m    290\u001b[0m     (lhs, rhs) = _do_highlevel_design(formula_like, data, eval_env,\n\u001b[0;32m--> 291\u001b[0;31m                                       NA_action, return_type)\n\u001b[0m\u001b[1;32m    292\u001b[0m     \u001b[0;32mif\u001b[0m \u001b[0mlhs\u001b[0m\u001b[0;34m.\u001b[0m\u001b[0mshape\u001b[0m\u001b[0;34m[\u001b[0m\u001b[0;36m1\u001b[0m\u001b[0;34m]\u001b[0m \u001b[0;34m!=\u001b[0m \u001b[0;36m0\u001b[0m\u001b[0;34m:\u001b[0m\u001b[0;34m\u001b[0m\u001b[0m\n\u001b[1;32m    293\u001b[0m         raise PatsyError(\"encountered outcome variables for a model \"\n",
      "\u001b[0;32m//anaconda/lib/python2.7/site-packages/patsy/highlevel.pyc\u001b[0m in \u001b[0;36m_do_highlevel_design\u001b[0;34m(formula_like, data, eval_env, NA_action, return_type)\u001b[0m\n\u001b[1;32m    167\u001b[0m         return build_design_matrices(design_infos, data,\n\u001b[1;32m    168\u001b[0m                                      \u001b[0mNA_action\u001b[0m\u001b[0;34m=\u001b[0m\u001b[0mNA_action\u001b[0m\u001b[0;34m,\u001b[0m\u001b[0;34m\u001b[0m\u001b[0m\n\u001b[0;32m--> 169\u001b[0;31m                                      return_type=return_type)\n\u001b[0m\u001b[1;32m    170\u001b[0m     \u001b[0;32melse\u001b[0m\u001b[0;34m:\u001b[0m\u001b[0;34m\u001b[0m\u001b[0m\n\u001b[1;32m    171\u001b[0m         \u001b[0;31m# No builders, but maybe we can still get matrices\u001b[0m\u001b[0;34m\u001b[0m\u001b[0;34m\u001b[0m\u001b[0m\n",
      "\u001b[0;32m//anaconda/lib/python2.7/site-packages/patsy/build.pyc\u001b[0m in \u001b[0;36mbuild_design_matrices\u001b[0;34m(design_infos, data, NA_action, return_type, dtype)\u001b[0m\n\u001b[1;32m    945\u001b[0m             \u001b[0;32melse\u001b[0m\u001b[0;34m:\u001b[0m\u001b[0;34m\u001b[0m\u001b[0m\n\u001b[1;32m    946\u001b[0m                 raise PatsyError(\n\u001b[0;32m--> 947\u001b[0;31m                     \u001b[0;34m\"No design matrix has any non-trivial factors, \"\u001b[0m\u001b[0;34m\u001b[0m\u001b[0m\n\u001b[0m\u001b[1;32m    948\u001b[0m                     \u001b[0;34m\"the data object is not a DataFrame. \"\u001b[0m\u001b[0;34m\u001b[0m\u001b[0m\n\u001b[1;32m    949\u001b[0m                     \u001b[0;34m\"I can't tell how many rows the design matrix should \"\u001b[0m\u001b[0;34m\u001b[0m\u001b[0m\n",
      "\u001b[0;31mPatsyError\u001b[0m: No design matrix has any non-trivial factors, the data object is not a DataFrame. I can't tell how many rows the design matrix should have!"
     ]
    }
   ],
   "source": [
    "dmatrix(\"x1 - x1\", data)"
   ]
  },
  {
   "cell_type": "code",
   "execution_count": 21,
   "metadata": {
    "collapsed": false
   },
   "outputs": [
    {
     "data": {
      "text/plain": [
       "DesignMatrix with shape (8, 3)\n",
       "  Intercept        x1     x1:x2\n",
       "          1   1.76405  -0.18208\n",
       "          1   0.40016   0.16430\n",
       "          1   0.97874   0.14098\n",
       "          1   2.24089   3.25887\n",
       "          1   1.86756   1.42128\n",
       "          1  -0.97728  -0.11891\n",
       "          1   0.95009   0.42171\n",
       "          1  -0.15136  -0.05050\n",
       "  Terms:\n",
       "    'Intercept' (column 0)\n",
       "    'x1' (column 1)\n",
       "    'x1:x2' (column 2)"
      ]
     },
     "execution_count": 21,
     "metadata": {},
     "output_type": "execute_result"
    }
   ],
   "source": [
    "dmatrix(\"x1 / x2\", data)"
   ]
  },
  {
   "cell_type": "code",
   "execution_count": 22,
   "metadata": {
    "collapsed": false
   },
   "outputs": [
    {
     "data": {
      "text/plain": [
       "DesignMatrix with shape (8, 4)\n",
       "  Intercept        x1     x1:x2      x1:y\n",
       "          1   1.76405  -0.18208   2.63563\n",
       "          1   0.40016   0.16430  -0.08210\n",
       "          1   0.97874   0.14098   0.30641\n",
       "          1   2.24089   3.25887  -1.91394\n",
       "          1   1.86756   1.42128  -4.76786\n",
       "          1  -0.97728  -0.11891  -0.63877\n",
       "          1   0.95009   0.42171   0.82129\n",
       "          1  -0.15136  -0.05050   0.11233\n",
       "  Terms:\n",
       "    'Intercept' (column 0)\n",
       "    'x1' (column 1)\n",
       "    'x1:x2' (column 2)\n",
       "    'x1:y' (column 3)"
      ]
     },
     "execution_count": 22,
     "metadata": {},
     "output_type": "execute_result"
    }
   ],
   "source": [
    "dmatrix(\"x1 / (x2 + y)\", data)"
   ]
  },
  {
   "cell_type": "code",
   "execution_count": 24,
   "metadata": {
    "collapsed": false
   },
   "outputs": [
    {
     "data": {
      "text/plain": [
       "DesignMatrix with shape (8, 4)\n",
       "  Intercept        x1        x2   x1:x2:y\n",
       "          1   1.76405  -0.10322  -0.27205\n",
       "          1   0.40016   0.41060  -0.03371\n",
       "          1   0.97874   0.14404   0.04414\n",
       "          1   2.24089   1.45427  -2.78339\n",
       "          1   1.86756   0.76104  -3.62852\n",
       "          1  -0.97728   0.12168  -0.07772\n",
       "          1   0.95009   0.44386   0.36454\n",
       "          1  -0.15136   0.33367   0.03748\n",
       "  Terms:\n",
       "    'Intercept' (column 0)\n",
       "    'x1' (column 1)\n",
       "    'x2' (column 2)\n",
       "    'x1:x2:y' (column 3)"
      ]
     },
     "execution_count": 24,
     "metadata": {},
     "output_type": "execute_result"
    }
   ],
   "source": [
    "dmatrix(\"(x1 + x2) / y\", data)"
   ]
  },
  {
   "cell_type": "code",
   "execution_count": 31,
   "metadata": {
    "collapsed": false
   },
   "outputs": [
    {
     "data": {
      "text/plain": [
       "DesignMatrix with shape (8, 15)\n",
       "  Columns:\n",
       "    ['Intercept',\n",
       "     'a[T.a2]',\n",
       "     'b[T.b2]',\n",
       "     'a[T.a2]:b[T.b2]',\n",
       "     'x1',\n",
       "     'x1:a[T.a2]',\n",
       "     'x1:b[T.b2]',\n",
       "     'x1:a[T.a2]:b[T.b2]',\n",
       "     'x2',\n",
       "     'x2:a[T.a2]',\n",
       "     'x2:b[T.b2]',\n",
       "     'x2:a[T.a2]:b[T.b2]',\n",
       "     'x1:x2',\n",
       "     'x1:x2:a[T.a2]',\n",
       "     'x1:x2:b[T.b2]']\n",
       "  Terms:\n",
       "    'Intercept' (column 0)\n",
       "    'a' (column 1)\n",
       "    'b' (column 2)\n",
       "    'a:b' (column 3)\n",
       "    'x1' (column 4)\n",
       "    'x1:a' (column 5)\n",
       "    'x1:b' (column 6)\n",
       "    'x1:a:b' (column 7)\n",
       "    'x2' (column 8)\n",
       "    'x2:a' (column 9)\n",
       "    'x2:b' (column 10)\n",
       "    'x2:a:b' (column 11)\n",
       "    'x1:x2' (column 12)\n",
       "    'x1:x2:a' (column 13)\n",
       "    'x1:x2:b' (column 14)\n",
       "  (to view full data, use np.asarray(this_obj))"
      ]
     },
     "execution_count": 31,
     "metadata": {},
     "output_type": "execute_result"
    }
   ],
   "source": [
    "dmatrix(\"(x1 + x2 + a + b) ** 3\", data)"
   ]
  },
  {
   "cell_type": "code",
   "execution_count": 32,
   "metadata": {
    "collapsed": false
   },
   "outputs": [
    {
     "data": {
      "text/plain": [
       "DesignMatrix with shape (8, 1)\n",
       "        x1\n",
       "   1.76405\n",
       "   0.40016\n",
       "   0.97874\n",
       "   2.24089\n",
       "   1.86756\n",
       "  -0.97728\n",
       "   0.95009\n",
       "  -0.15136\n",
       "  Terms:\n",
       "    'x1' (column 0)"
      ]
     },
     "execution_count": 32,
     "metadata": {},
     "output_type": "execute_result"
    }
   ],
   "source": [
    "dmatrix(\"x1 - 1\", data)"
   ]
  },
  {
   "cell_type": "code",
   "execution_count": 35,
   "metadata": {
    "collapsed": false
   },
   "outputs": [
    {
     "data": {
      "text/plain": [
       "DesignMatrix with shape (8, 1)\n",
       "        x1\n",
       "   1.76405\n",
       "   0.40016\n",
       "   0.97874\n",
       "   2.24089\n",
       "   1.86756\n",
       "  -0.97728\n",
       "   0.95009\n",
       "  -0.15136\n",
       "  Terms:\n",
       "    'x1' (column 0)"
      ]
     },
     "execution_count": 35,
     "metadata": {},
     "output_type": "execute_result"
    },
    {
     "data": {
      "text/plain": [
       "DesignMatrix with shape (8, 2)\n",
       "  Intercept        x1\n",
       "          1   1.76405\n",
       "          1   0.40016\n",
       "          1   0.97874\n",
       "          1   2.24089\n",
       "          1   1.86756\n",
       "          1  -0.97728\n",
       "          1   0.95009\n",
       "          1  -0.15136\n",
       "  Terms:\n",
       "    'Intercept' (column 0)\n",
       "    'x1' (column 1)"
      ]
     },
     "execution_count": 35,
     "metadata": {},
     "output_type": "execute_result"
    },
    {
     "data": {
      "text/plain": [
       "DesignMatrix with shape (8, 1)\n",
       "        x1\n",
       "   1.76405\n",
       "   0.40016\n",
       "   0.97874\n",
       "   2.24089\n",
       "   1.86756\n",
       "  -0.97728\n",
       "   0.95009\n",
       "  -0.15136\n",
       "  Terms:\n",
       "    'x1' (column 0)"
      ]
     },
     "execution_count": 35,
     "metadata": {},
     "output_type": "execute_result"
    },
    {
     "data": {
      "text/plain": [
       "DesignMatrix with shape (8, 1)\n",
       "        x1\n",
       "   1.76405\n",
       "   0.40016\n",
       "   0.97874\n",
       "   2.24089\n",
       "   1.86756\n",
       "  -0.97728\n",
       "   0.95009\n",
       "  -0.15136\n",
       "  Terms:\n",
       "    'x1' (column 0)"
      ]
     },
     "execution_count": 35,
     "metadata": {},
     "output_type": "execute_result"
    }
   ],
   "source": [
    "dmatrix(\"x1 - 1\", data)\n",
    "\n",
    "dmatrix(\"x1 + 0\", data)\n",
    "\n",
    "dmatrix(\"x1 - (-0)\", data)"
   ]
  },
  {
   "cell_type": "code",
   "execution_count": 36,
   "metadata": {
    "collapsed": false
   },
   "outputs": [
    {
     "data": {
      "text/plain": [
       "ModelDesc(lhs_termlist=[Term([EvalFactor('y')])],\n",
       "          rhs_termlist=[Term([]), Term([EvalFactor('x')])])"
      ]
     },
     "execution_count": 36,
     "metadata": {},
     "output_type": "execute_result"
    },
    {
     "data": {
      "text/plain": [
       "ModelDesc(lhs_termlist=[Term([EvalFactor('y')])],\n",
       "          rhs_termlist=[Term([]), Term([EvalFactor('x')])])"
      ]
     },
     "execution_count": 36,
     "metadata": {},
     "output_type": "execute_result"
    },
    {
     "data": {
      "text/plain": [
       "ModelDesc(lhs_termlist=[Term([EvalFactor('y')])],\n",
       "          rhs_termlist=[Term([EvalFactor('x')])])"
      ]
     },
     "execution_count": 36,
     "metadata": {},
     "output_type": "execute_result"
    },
    {
     "data": {
      "text/plain": [
       "ModelDesc(lhs_termlist=[], rhs_termlist=[])"
      ]
     },
     "execution_count": 36,
     "metadata": {},
     "output_type": "execute_result"
    },
    {
     "data": {
      "text/plain": [
       "ModelDesc(lhs_termlist=[Term([EvalFactor('y')])],\n",
       "          rhs_termlist=[Term([]), Term([EvalFactor('a'), EvalFactor('b')])])"
      ]
     },
     "execution_count": 36,
     "metadata": {},
     "output_type": "execute_result"
    },
    {
     "data": {
      "text/plain": [
       "ModelDesc(lhs_termlist=[Term([EvalFactor('y')])],\n",
       "          rhs_termlist=[Term([]),\n",
       "                        Term([EvalFactor('a')]),\n",
       "                        Term([EvalFactor('b')]),\n",
       "                        Term([EvalFactor('a'), EvalFactor('b')])])"
      ]
     },
     "execution_count": 36,
     "metadata": {},
     "output_type": "execute_result"
    },
    {
     "data": {
      "text/plain": [
       "ModelDesc(lhs_termlist=[Term([EvalFactor('y')])],\n",
       "          rhs_termlist=[Term([]),\n",
       "                        Term([EvalFactor('a')]),\n",
       "                        Term([EvalFactor('b')]),\n",
       "                        Term([EvalFactor('c')]),\n",
       "                        Term([EvalFactor('d')]),\n",
       "                        Term([EvalFactor('a'), EvalFactor('b')]),\n",
       "                        Term([EvalFactor('a'), EvalFactor('c')]),\n",
       "                        Term([EvalFactor('a'), EvalFactor('d')]),\n",
       "                        Term([EvalFactor('b'), EvalFactor('c')]),\n",
       "                        Term([EvalFactor('b'), EvalFactor('d')]),\n",
       "                        Term([EvalFactor('c'), EvalFactor('d')])])"
      ]
     },
     "execution_count": 36,
     "metadata": {},
     "output_type": "execute_result"
    },
    {
     "data": {
      "text/plain": [
       "ModelDesc(lhs_termlist=[Term([EvalFactor('y')])],\n",
       "          rhs_termlist=[Term([]),\n",
       "                        Term([EvalFactor('a')]),\n",
       "                        Term([EvalFactor('b')]),\n",
       "                        Term([EvalFactor('a'),\n",
       "                              EvalFactor('b'),\n",
       "                              EvalFactor('c')]),\n",
       "                        Term([EvalFactor('a'),\n",
       "                              EvalFactor('b'),\n",
       "                              EvalFactor('d')])])"
      ]
     },
     "execution_count": 36,
     "metadata": {},
     "output_type": "execute_result"
    },
    {
     "data": {
      "text/plain": [
       "ModelDesc(lhs_termlist=[],\n",
       "          rhs_termlist=[Term([]),\n",
       "                        Term([EvalFactor('np.log(x1 + x2)')]),\n",
       "                        Term([EvalFactor('x')]),\n",
       "                        Term([EvalFactor('{6: x3, 8 + 1: x4}[3 * i]')])])"
      ]
     },
     "execution_count": 36,
     "metadata": {},
     "output_type": "execute_result"
    }
   ],
   "source": [
    "from patsy import ModelDesc\n",
    "ModelDesc.from_formula(\"y ~ x\")\n",
    "ModelDesc.from_formula(\"y ~ x + x + x\")\n",
    "ModelDesc.from_formula(\"y ~ -1 + x\")\n",
    "ModelDesc.from_formula(\"~ -1\")\n",
    "ModelDesc.from_formula(\"y ~ a:b\")\n",
    "ModelDesc.from_formula(\"y ~ a*b\")\n",
    "ModelDesc.from_formula(\"y ~ (a + b + c + d) ** 2\")"
   ]
  },
  {
   "cell_type": "code",
   "execution_count": 37,
   "metadata": {
    "collapsed": false
   },
   "outputs": [
    {
     "data": {
      "text/plain": [
       "ModelDesc(lhs_termlist=[Term([EvalFactor('y')])],\n",
       "          rhs_termlist=[Term([]),\n",
       "                        Term([EvalFactor('a')]),\n",
       "                        Term([EvalFactor('b')]),\n",
       "                        Term([EvalFactor('a'),\n",
       "                              EvalFactor('b'),\n",
       "                              EvalFactor('c')]),\n",
       "                        Term([EvalFactor('a'),\n",
       "                              EvalFactor('b'),\n",
       "                              EvalFactor('d')])])"
      ]
     },
     "execution_count": 37,
     "metadata": {},
     "output_type": "execute_result"
    },
    {
     "data": {
      "text/plain": [
       "ModelDesc(lhs_termlist=[],\n",
       "          rhs_termlist=[Term([]),\n",
       "                        Term([EvalFactor('np.log(x1 + x2)')]),\n",
       "                        Term([EvalFactor('x')]),\n",
       "                        Term([EvalFactor('{6: x3, 8 + 1: x4}[3 * i]')])])"
      ]
     },
     "execution_count": 37,
     "metadata": {},
     "output_type": "execute_result"
    }
   ],
   "source": [
    "ModelDesc.from_formula(\"y ~ (a + b)/(c + d)\")\n",
    "ModelDesc.from_formula(\"np.log(x1 + x2) \"\n",
    "                       \"+ (x + {6: x3, 8 + 1: x4}[3 * i])\")"
   ]
  },
  {
   "cell_type": "code",
   "execution_count": 38,
   "metadata": {
    "collapsed": false
   },
   "outputs": [
    {
     "data": {
      "text/plain": [
       "'y ~ a + b + c + d + a:b + a:c + a:d + b:c + b:d + c:d'"
      ]
     },
     "execution_count": 38,
     "metadata": {},
     "output_type": "execute_result"
    }
   ],
   "source": [
    "desc = ModelDesc.from_formula(\"y ~ (a + b + c + d) ** 2\")\n",
    "desc.describe()"
   ]
  },
  {
   "cell_type": "code",
   "execution_count": 41,
   "metadata": {
    "collapsed": true
   },
   "outputs": [],
   "source": [
    "from patsy import (ModelDesc, EvalEnvironment, Term, EvalFactor,\n",
    "                   LookupFactor, demo_data, dmatrix)"
   ]
  },
  {
   "cell_type": "code",
   "execution_count": 59,
   "metadata": {
    "collapsed": false
   },
   "outputs": [],
   "source": [
    "import numpy as np\n",
    "\n",
    "data = demo_data(\"a\", \"x\")\n"
   ]
  },
  {
   "cell_type": "code",
   "execution_count": 60,
   "metadata": {
    "collapsed": false
   },
   "outputs": [],
   "source": [
    "a_lookup = LookupFactor(\"a\", force_categorical=False, contrast=None, levels=None, origin=None)"
   ]
  },
  {
   "cell_type": "code",
   "execution_count": 61,
   "metadata": {
    "collapsed": false
   },
   "outputs": [
    {
     "data": {
      "text/plain": [
       "DesignMatrix with shape (6, 4)\n",
       "  a[a1]  a[a2]  np.log(x ** 2)  a[T.a2]:np.log(x ** 2)\n",
       "      1      0         1.13523                 0.00000\n",
       "      0      1        -1.83180                -1.83180\n",
       "      1      0        -0.04298                -0.00000\n",
       "      0      1         1.61375                 1.61375\n",
       "      1      0         1.24926                 0.00000\n",
       "      0      1        -0.04597                -0.04597\n",
       "  Terms:\n",
       "    'a' (columns 0:2)\n",
       "    'np.log(x ** 2)' (column 2)\n",
       "    'a:np.log(x ** 2)' (column 3)"
      ]
     },
     "execution_count": 61,
     "metadata": {},
     "output_type": "execute_result"
    }
   ],
   "source": [
    "x_transform = EvalFactor(\"np.log(x ** 2)\")\n",
    "\n",
    "desc = ModelDesc([],\n",
    "                 [Term([a_lookup]),\n",
    "                  Term([x_transform]),\n",
    "                  Term([a_lookup, x_transform])])\n",
    "\n",
    "dmatrix(desc, data)"
   ]
  },
  {
   "cell_type": "code",
   "execution_count": 44,
   "metadata": {
    "collapsed": false
   },
   "outputs": [],
   "source": [
    "def add_predictors(base_formula, extra_predictors):\n",
    "    desc = ModelDesc.from_formula(base_formula)\n",
    "    # Using LookupFactor here ensures that everything will work correctly even\n",
    "    # if one of the column names in extra_columns is named like \"weight.in.kg\"\n",
    "    # or \"sys.exit()\" or \"LittleBobbyTables()\".\n",
    "    desc.rhs_termlist += [Term([LookupFactor(p)]) for p in extra_predictors]\n",
    "    return desc"
   ]
  },
  {
   "cell_type": "code",
   "execution_count": 45,
   "metadata": {
    "collapsed": false
   },
   "outputs": [
    {
     "data": {
      "text/plain": [
       "'np.log(y) ~ a + b + a:b + c:d + x0 + x1 + x2 + x3 + x4 + x5 + x6 + x7 + x8 + x9'"
      ]
     },
     "execution_count": 45,
     "metadata": {},
     "output_type": "execute_result"
    }
   ],
   "source": [
    "extra_predictors = [\"x%s\" % (i,) for i in range(10)]\n",
    "desc = add_predictors(\"np.log(y) ~ a*b + c:d\", extra_predictors)\n",
    "desc.describe()"
   ]
  },
  {
   "cell_type": "code",
   "execution_count": null,
   "metadata": {
    "collapsed": true
   },
   "outputs": [],
   "source": []
  }
 ],
 "metadata": {
  "anaconda-cloud": {},
  "kernelspec": {
   "display_name": "Python [conda root]",
   "language": "python",
   "name": "conda-root-py"
  },
  "language_info": {
   "codemirror_mode": {
    "name": "ipython",
    "version": 2
   },
   "file_extension": ".py",
   "mimetype": "text/x-python",
   "name": "python",
   "nbconvert_exporter": "python",
   "pygments_lexer": "ipython2",
   "version": "2.7.12"
  }
 },
 "nbformat": 4,
 "nbformat_minor": 1
}
