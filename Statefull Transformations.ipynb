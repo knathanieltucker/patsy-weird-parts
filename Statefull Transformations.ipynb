{
 "cells": [
  {
   "cell_type": "code",
   "execution_count": 6,
   "metadata": {
    "collapsed": true
   },
   "outputs": [],
   "source": [
    "from IPython.core.interactiveshell import InteractiveShell\n",
    "InteractiveShell.ast_node_interactivity = \"all\""
   ]
  },
  {
   "cell_type": "code",
   "execution_count": 8,
   "metadata": {
    "collapsed": true
   },
   "outputs": [],
   "source": [
    "def naive_center(x):  # BROKEN! don't use!\n",
    "    x = np.asarray(x)\n",
    "    return x - np.mean(x)"
   ]
  },
  {
   "cell_type": "code",
   "execution_count": 9,
   "metadata": {
    "collapsed": false
   },
   "outputs": [],
   "source": [
    "import numpy as np\n",
    "from patsy import dmatrix, build_design_matrices, incr_dbuilder\n",
    "data = {\"x\": [1, 2, 3, 4]}"
   ]
  },
  {
   "cell_type": "code",
   "execution_count": 10,
   "metadata": {
    "collapsed": false
   },
   "outputs": [
    {
     "data": {
      "text/plain": [
       "DesignMatrix with shape (4, 2)\n",
       "  Intercept  naive_center(x)\n",
       "          1             -1.5\n",
       "          1             -0.5\n",
       "          1              0.5\n",
       "          1              1.5\n",
       "  Terms:\n",
       "    'Intercept' (column 0)\n",
       "    'naive_center(x)' (column 1)"
      ]
     },
     "execution_count": 10,
     "metadata": {},
     "output_type": "execute_result"
    }
   ],
   "source": [
    "mat = dmatrix(\"naive_center(x)\", data)\n",
    "mat"
   ]
  },
  {
   "cell_type": "code",
   "execution_count": 11,
   "metadata": {
    "collapsed": false
   },
   "outputs": [
    {
     "data": {
      "text/plain": [
       "DesignMatrix with shape (4, 2)\n",
       "  Intercept  naive_center(x)\n",
       "          1             -1.5\n",
       "          1             -0.5\n",
       "          1              0.5\n",
       "          1              1.5\n",
       "  Terms:\n",
       "    'Intercept' (column 0)\n",
       "    'naive_center(x)' (column 1)"
      ]
     },
     "execution_count": 11,
     "metadata": {},
     "output_type": "execute_result"
    }
   ],
   "source": [
    "new_data = {\"x\": [5, 6, 7, 8]}\n",
    "build_design_matrices([mat.design_info], new_data)[0]"
   ]
  },
  {
   "cell_type": "code",
   "execution_count": 13,
   "metadata": {
    "collapsed": false
   },
   "outputs": [
    {
     "data": {
      "text/plain": [
       "DesignMatrix with shape (4, 2)\n",
       "  Intercept  center(x)\n",
       "          1       -1.5\n",
       "          1       -0.5\n",
       "          1        0.5\n",
       "          1        1.5\n",
       "  Terms:\n",
       "    'Intercept' (column 0)\n",
       "    'center(x)' (column 1)"
      ]
     },
     "execution_count": 13,
     "metadata": {},
     "output_type": "execute_result"
    }
   ],
   "source": [
    "fixed_mat = dmatrix(\"center(x)\", data)\n",
    "\n",
    "fixed_mat"
   ]
  },
  {
   "cell_type": "code",
   "execution_count": 14,
   "metadata": {
    "collapsed": false
   },
   "outputs": [
    {
     "data": {
      "text/plain": [
       "DesignMatrix with shape (4, 2)\n",
       "  Intercept  center(x)\n",
       "          1        2.5\n",
       "          1        3.5\n",
       "          1        4.5\n",
       "          1        5.5\n",
       "  Terms:\n",
       "    'Intercept' (column 0)\n",
       "    'center(x)' (column 1)"
      ]
     },
     "execution_count": 14,
     "metadata": {},
     "output_type": "execute_result"
    }
   ],
   "source": [
    "build_design_matrices([fixed_mat.design_info], new_data)[0]"
   ]
  },
  {
   "cell_type": "code",
   "execution_count": 15,
   "metadata": {
    "collapsed": false
   },
   "outputs": [
    {
     "data": {
      "text/plain": [
       "array([[ 1. , -0.5],\n",
       "       [ 1. ,  0.5],\n",
       "       [ 1. , -0.5],\n",
       "       [ 1. ,  0.5]])"
      ]
     },
     "execution_count": 15,
     "metadata": {},
     "output_type": "execute_result"
    }
   ],
   "source": [
    "data_chunked = [{\"x\": data[\"x\"][:2]},\n",
    "                {\"x\": data[\"x\"][2:]}]\n",
    "\n",
    "dinfo = incr_dbuilder(\"naive_center(x)\", lambda: iter(data_chunked))\n",
    "np.row_stack([build_design_matrices([dinfo], chunk)[0]\n",
    "              for chunk in data_chunked])\n"
   ]
  },
  {
   "cell_type": "code",
   "execution_count": 16,
   "metadata": {
    "collapsed": false
   },
   "outputs": [
    {
     "data": {
      "text/plain": [
       "array([[ 1. , -1.5],\n",
       "       [ 1. , -0.5],\n",
       "       [ 1. ,  0.5],\n",
       "       [ 1. ,  1.5]])"
      ]
     },
     "execution_count": 16,
     "metadata": {},
     "output_type": "execute_result"
    }
   ],
   "source": [
    "dinfo = incr_dbuilder(\"center(x)\", lambda: iter(data_chunked))\n",
    "np.row_stack([build_design_matrices([dinfo], chunk)[0]\n",
    "              for chunk in data_chunked])\n"
   ]
  },
  {
   "cell_type": "code",
   "execution_count": 17,
   "metadata": {
    "collapsed": false
   },
   "outputs": [
    {
     "data": {
      "text/plain": [
       "DesignMatrix with shape (4, 2)\n",
       "  Intercept  center(x)\n",
       "          1        2.5\n",
       "          1        3.5\n",
       "          1        4.5\n",
       "          1        5.5\n",
       "  Terms:\n",
       "    'Intercept' (column 0)\n",
       "    'center(x)' (column 1)"
      ]
     },
     "execution_count": 17,
     "metadata": {},
     "output_type": "execute_result"
    }
   ],
   "source": [
    "build_design_matrices([dinfo], new_data)[0]"
   ]
  },
  {
   "cell_type": "code",
   "execution_count": 21,
   "metadata": {
    "collapsed": false
   },
   "outputs": [
    {
     "name": "stdout",
     "output_type": "stream",
     "text": [
      "[-1.  0.  1.]\n"
     ]
    }
   ],
   "source": [
    "from patsy import stateful_transform\n",
    "\n",
    "class MyExampleCenter(object):\n",
    "    def __init__(self):\n",
    "        self._total = 0\n",
    "        self._count = 0\n",
    "        self._mean = None\n",
    "\n",
    "    def memorize_chunk(self, x):\n",
    "        self._total += np.sum(x)\n",
    "        self._count += len(x)\n",
    "\n",
    "    def memorize_finish(self):\n",
    "        self._mean = self._total * 1. / self._count\n",
    "\n",
    "    def transform(self, x):\n",
    "        return x - self._mean\n",
    "\n",
    "my_example_center = stateful_transform(MyExampleCenter)\n",
    "print(my_example_center(np.array([1, 2, 3])))"
   ]
  },
  {
   "cell_type": "code",
   "execution_count": 22,
   "metadata": {
    "collapsed": false
   },
   "outputs": [
    {
     "data": {
      "text/plain": [
       "DesignMatrix with shape (4, 2)\n",
       "  Intercept  standardize(x, center=False, rescale=True, ddof=1)\n",
       "          1                                             0.77460\n",
       "          1                                             1.54919\n",
       "          1                                             2.32379\n",
       "          1                                             3.09839\n",
       "  Terms:\n",
       "    'Intercept' (column 0)\n",
       "    'standardize(x, center=False, rescale=True, ddof=1)' (column 1)"
      ]
     },
     "execution_count": 22,
     "metadata": {},
     "output_type": "execute_result"
    }
   ],
   "source": [
    "fixed_mat = dmatrix(\"standardize(x, center=False, rescale=True, ddof=1)\", data)\n",
    "\n",
    "fixed_mat"
   ]
  },
  {
   "cell_type": "code",
   "execution_count": null,
   "metadata": {
    "collapsed": true
   },
   "outputs": [],
   "source": []
  }
 ],
 "metadata": {
  "kernelspec": {
   "display_name": "Python [conda root]",
   "language": "python",
   "name": "conda-root-py"
  },
  "language_info": {
   "codemirror_mode": {
    "name": "ipython",
    "version": 2
   },
   "file_extension": ".py",
   "mimetype": "text/x-python",
   "name": "python",
   "nbconvert_exporter": "python",
   "pygments_lexer": "ipython2",
   "version": "2.7.12"
  }
 },
 "nbformat": 4,
 "nbformat_minor": 1
}
