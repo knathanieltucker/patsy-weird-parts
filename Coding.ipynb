{
 "cells": [
  {
   "cell_type": "code",
   "execution_count": 48,
   "metadata": {
    "collapsed": false
   },
   "outputs": [
    {
     "data": {
      "text/plain": [
       "{'a': ['a1', 'a2', 'a3', 'a1', 'a2', 'a3']}"
      ]
     },
     "execution_count": 48,
     "metadata": {},
     "output_type": "execute_result"
    }
   ],
   "source": [
    "from patsy import dmatrix, demo_data, ContrastMatrix, Poly\n",
    "\n",
    "data = demo_data(\"a\", nlevels=3)\n",
    "data"
   ]
  },
  {
   "cell_type": "code",
   "execution_count": 49,
   "metadata": {
    "collapsed": false
   },
   "outputs": [
    {
     "data": {
      "text/plain": [
       "DesignMatrix with shape (6, 3)\n",
       "  Intercept  a[T.a2]  a[T.a3]\n",
       "          1        0        0\n",
       "          1        1        0\n",
       "          1        0        1\n",
       "          1        0        0\n",
       "          1        1        0\n",
       "          1        0        1\n",
       "  Terms:\n",
       "    'Intercept' (column 0)\n",
       "    'a' (columns 1:3)"
      ]
     },
     "execution_count": 49,
     "metadata": {},
     "output_type": "execute_result"
    }
   ],
   "source": [
    "dmatrix(\"a\", data)"
   ]
  },
  {
   "cell_type": "code",
   "execution_count": 50,
   "metadata": {
    "collapsed": false
   },
   "outputs": [
    {
     "data": {
      "text/plain": [
       "DesignMatrix with shape (6, 3)\n",
       "  Intercept  C(a, levels=l)[T.a2]  C(a, levels=l)[T.a1]\n",
       "          1                     0                     1\n",
       "          1                     1                     0\n",
       "          1                     0                     0\n",
       "          1                     0                     1\n",
       "          1                     1                     0\n",
       "          1                     0                     0\n",
       "  Terms:\n",
       "    'Intercept' (column 0)\n",
       "    'C(a, levels=l)' (columns 1:3)"
      ]
     },
     "execution_count": 50,
     "metadata": {},
     "output_type": "execute_result"
    }
   ],
   "source": [
    "l = [\"a3\", \"a2\", \"a1\"]\n",
    "dmatrix(\"C(a, levels=l)\", data)"
   ]
  },
  {
   "cell_type": "code",
   "execution_count": 52,
   "metadata": {
    "collapsed": false
   },
   "outputs": [
    {
     "ename": "PatsyError",
     "evalue": "Error converting data to categorical: observation with value 'a1' does not match any of the expected levels (expected: ['a3', 'a2', 'blue'])\n    C(a, levels=l)\n    ^^^^^^^^^^^^^^",
     "output_type": "error",
     "traceback": [
      "\u001b[0;31m---------------------------------------------------------------------------\u001b[0m",
      "\u001b[0;31mPatsyError\u001b[0m                                Traceback (most recent call last)",
      "\u001b[0;32m<ipython-input-52-bc7b67681a50>\u001b[0m in \u001b[0;36m<module>\u001b[0;34m()\u001b[0m\n\u001b[1;32m      1\u001b[0m \u001b[0ml\u001b[0m \u001b[0;34m=\u001b[0m \u001b[0;34m[\u001b[0m\u001b[0;34m\"a3\"\u001b[0m\u001b[0;34m,\u001b[0m \u001b[0;34m\"a2\"\u001b[0m\u001b[0;34m,\u001b[0m \u001b[0;34m\"blue\"\u001b[0m\u001b[0;34m]\u001b[0m\u001b[0;34m\u001b[0m\u001b[0m\n\u001b[0;32m----> 2\u001b[0;31m \u001b[0mdmatrix\u001b[0m\u001b[0;34m(\u001b[0m\u001b[0;34m\"C(a, levels=l)\"\u001b[0m\u001b[0;34m,\u001b[0m \u001b[0mdata\u001b[0m\u001b[0;34m)\u001b[0m\u001b[0;34m\u001b[0m\u001b[0m\n\u001b[0m",
      "\u001b[0;32m//anaconda/lib/python2.7/site-packages/patsy/highlevel.pyc\u001b[0m in \u001b[0;36mdmatrix\u001b[0;34m(formula_like, data, eval_env, NA_action, return_type)\u001b[0m\n\u001b[1;32m    289\u001b[0m     \u001b[0meval_env\u001b[0m \u001b[0;34m=\u001b[0m \u001b[0mEvalEnvironment\u001b[0m\u001b[0;34m.\u001b[0m\u001b[0mcapture\u001b[0m\u001b[0;34m(\u001b[0m\u001b[0meval_env\u001b[0m\u001b[0;34m,\u001b[0m \u001b[0mreference\u001b[0m\u001b[0;34m=\u001b[0m\u001b[0;36m1\u001b[0m\u001b[0;34m)\u001b[0m\u001b[0;34m\u001b[0m\u001b[0m\n\u001b[1;32m    290\u001b[0m     (lhs, rhs) = _do_highlevel_design(formula_like, data, eval_env,\n\u001b[0;32m--> 291\u001b[0;31m                                       NA_action, return_type)\n\u001b[0m\u001b[1;32m    292\u001b[0m     \u001b[0;32mif\u001b[0m \u001b[0mlhs\u001b[0m\u001b[0;34m.\u001b[0m\u001b[0mshape\u001b[0m\u001b[0;34m[\u001b[0m\u001b[0;36m1\u001b[0m\u001b[0;34m]\u001b[0m \u001b[0;34m!=\u001b[0m \u001b[0;36m0\u001b[0m\u001b[0;34m:\u001b[0m\u001b[0;34m\u001b[0m\u001b[0m\n\u001b[1;32m    293\u001b[0m         raise PatsyError(\"encountered outcome variables for a model \"\n",
      "\u001b[0;32m//anaconda/lib/python2.7/site-packages/patsy/highlevel.pyc\u001b[0m in \u001b[0;36m_do_highlevel_design\u001b[0;34m(formula_like, data, eval_env, NA_action, return_type)\u001b[0m\n\u001b[1;32m    167\u001b[0m         return build_design_matrices(design_infos, data,\n\u001b[1;32m    168\u001b[0m                                      \u001b[0mNA_action\u001b[0m\u001b[0;34m=\u001b[0m\u001b[0mNA_action\u001b[0m\u001b[0;34m,\u001b[0m\u001b[0;34m\u001b[0m\u001b[0m\n\u001b[0;32m--> 169\u001b[0;31m                                      return_type=return_type)\n\u001b[0m\u001b[1;32m    170\u001b[0m     \u001b[0;32melse\u001b[0m\u001b[0;34m:\u001b[0m\u001b[0;34m\u001b[0m\u001b[0m\n\u001b[1;32m    171\u001b[0m         \u001b[0;31m# No builders, but maybe we can still get matrices\u001b[0m\u001b[0;34m\u001b[0m\u001b[0;34m\u001b[0m\u001b[0m\n",
      "\u001b[0;32m//anaconda/lib/python2.7/site-packages/patsy/build.pyc\u001b[0m in \u001b[0;36mbuild_design_matrices\u001b[0;34m(design_infos, data, NA_action, return_type, dtype)\u001b[0m\n\u001b[1;32m    886\u001b[0m         \u001b[0;32mfor\u001b[0m \u001b[0mfactor_info\u001b[0m \u001b[0;32min\u001b[0m \u001b[0msix\u001b[0m\u001b[0;34m.\u001b[0m\u001b[0mitervalues\u001b[0m\u001b[0;34m(\u001b[0m\u001b[0mdesign_info\u001b[0m\u001b[0;34m.\u001b[0m\u001b[0mfactor_infos\u001b[0m\u001b[0;34m)\u001b[0m\u001b[0;34m:\u001b[0m\u001b[0;34m\u001b[0m\u001b[0m\n\u001b[1;32m    887\u001b[0m             \u001b[0;32mif\u001b[0m \u001b[0mfactor_info\u001b[0m \u001b[0;32mnot\u001b[0m \u001b[0;32min\u001b[0m \u001b[0mfactor_info_to_values\u001b[0m\u001b[0;34m:\u001b[0m\u001b[0;34m\u001b[0m\u001b[0m\n\u001b[0;32m--> 888\u001b[0;31m                 \u001b[0mvalue\u001b[0m\u001b[0;34m,\u001b[0m \u001b[0mis_NA\u001b[0m \u001b[0;34m=\u001b[0m \u001b[0m_eval_factor\u001b[0m\u001b[0;34m(\u001b[0m\u001b[0mfactor_info\u001b[0m\u001b[0;34m,\u001b[0m \u001b[0mdata\u001b[0m\u001b[0;34m,\u001b[0m \u001b[0mNA_action\u001b[0m\u001b[0;34m)\u001b[0m\u001b[0;34m\u001b[0m\u001b[0m\n\u001b[0m\u001b[1;32m    889\u001b[0m                 \u001b[0mfactor_info_to_isNAs\u001b[0m\u001b[0;34m[\u001b[0m\u001b[0mfactor_info\u001b[0m\u001b[0;34m]\u001b[0m \u001b[0;34m=\u001b[0m \u001b[0mis_NA\u001b[0m\u001b[0;34m\u001b[0m\u001b[0m\n\u001b[1;32m    890\u001b[0m                 \u001b[0;31m# value may now be a Series, DataFrame, or ndarray\u001b[0m\u001b[0;34m\u001b[0m\u001b[0;34m\u001b[0m\u001b[0m\n",
      "\u001b[0;32m//anaconda/lib/python2.7/site-packages/patsy/build.pyc\u001b[0m in \u001b[0;36m_eval_factor\u001b[0;34m(factor_info, data, NA_action)\u001b[0m\n\u001b[1;32m     83\u001b[0m         \u001b[0;32massert\u001b[0m \u001b[0mfactor_info\u001b[0m\u001b[0;34m.\u001b[0m\u001b[0mtype\u001b[0m \u001b[0;34m==\u001b[0m \u001b[0;34m\"categorical\"\u001b[0m\u001b[0;34m\u001b[0m\u001b[0m\n\u001b[1;32m     84\u001b[0m         result = categorical_to_int(result, factor_info.categories, NA_action,\n\u001b[0;32m---> 85\u001b[0;31m                                     origin=factor_info.factor)\n\u001b[0m\u001b[1;32m     86\u001b[0m         \u001b[0;32massert\u001b[0m \u001b[0mresult\u001b[0m\u001b[0;34m.\u001b[0m\u001b[0mndim\u001b[0m \u001b[0;34m==\u001b[0m \u001b[0;36m1\u001b[0m\u001b[0;34m\u001b[0m\u001b[0m\n\u001b[1;32m     87\u001b[0m         \u001b[0;32mreturn\u001b[0m \u001b[0mresult\u001b[0m\u001b[0;34m,\u001b[0m \u001b[0mnp\u001b[0m\u001b[0;34m.\u001b[0m\u001b[0masarray\u001b[0m\u001b[0;34m(\u001b[0m\u001b[0mresult\u001b[0m \u001b[0;34m==\u001b[0m \u001b[0;34m-\u001b[0m\u001b[0;36m1\u001b[0m\u001b[0;34m)\u001b[0m\u001b[0;34m\u001b[0m\u001b[0m\n",
      "\u001b[0;32m//anaconda/lib/python2.7/site-packages/patsy/categorical.pyc\u001b[0m in \u001b[0;36mcategorical_to_int\u001b[0;34m(data, levels, NA_action, origin)\u001b[0m\n\u001b[1;32m    360\u001b[0m                                  \u001b[0;34m\"observation with value %r does not match \"\u001b[0m\u001b[0;34m\u001b[0m\u001b[0m\n\u001b[1;32m    361\u001b[0m                                  \u001b[0;34m\"any of the expected levels (expected: %s)\"\u001b[0m\u001b[0;34m\u001b[0m\u001b[0m\n\u001b[0;32m--> 362\u001b[0;31m                                  % (value, level_str), origin)\n\u001b[0m\u001b[1;32m    363\u001b[0m             \u001b[0;32mexcept\u001b[0m \u001b[0mTypeError\u001b[0m\u001b[0;34m:\u001b[0m\u001b[0;34m\u001b[0m\u001b[0m\n\u001b[1;32m    364\u001b[0m                 raise PatsyError(\"Error converting data to categorical: \"\n",
      "\u001b[0;31mPatsyError\u001b[0m: Error converting data to categorical: observation with value 'a1' does not match any of the expected levels (expected: ['a3', 'a2', 'blue'])\n    C(a, levels=l)\n    ^^^^^^^^^^^^^^"
     ]
    }
   ],
   "source": [
    "l = [\"a3\", \"a2\", \"blue\"]\n",
    "dmatrix(\"C(a, levels=l)\", data)"
   ]
  },
  {
   "cell_type": "code",
   "execution_count": 4,
   "metadata": {
    "collapsed": false
   },
   "outputs": [
    {
     "data": {
      "text/plain": [
       "DesignMatrix with shape (6, 3)\n",
       "  Intercept  C(a, Poly).Linear  C(a, Poly).Quadratic\n",
       "          1           -0.70711               0.40825\n",
       "          1           -0.00000              -0.81650\n",
       "          1            0.70711               0.40825\n",
       "          1           -0.70711               0.40825\n",
       "          1           -0.00000              -0.81650\n",
       "          1            0.70711               0.40825\n",
       "  Terms:\n",
       "    'Intercept' (column 0)\n",
       "    'C(a, Poly)' (columns 1:3)"
      ]
     },
     "execution_count": 4,
     "metadata": {},
     "output_type": "execute_result"
    }
   ],
   "source": [
    " dmatrix(\"C(a, Poly)\", data)"
   ]
  },
  {
   "cell_type": "code",
   "execution_count": 5,
   "metadata": {
    "collapsed": false
   },
   "outputs": [
    {
     "data": {
      "text/plain": [
       "DesignMatrix with shape (6, 2)\n",
       "  Intercept  C(a, [[1], [2], [-4]])[custom0]\n",
       "          1                                1\n",
       "          1                                2\n",
       "          1                               -4\n",
       "          1                                1\n",
       "          1                                2\n",
       "          1                               -4\n",
       "  Terms:\n",
       "    'Intercept' (column 0)\n",
       "    'C(a, [[1], [2], [-4]])' (column 1)"
      ]
     },
     "execution_count": 5,
     "metadata": {},
     "output_type": "execute_result"
    }
   ],
   "source": [
    "contrast = [[1, 2], [3, 4], [5, 6]]\n",
    "dmatrix(\"C(a, contrast)\", data)\n",
    "dmatrix(\"C(a, [[1], [2], [-4]])\", data)"
   ]
  },
  {
   "cell_type": "code",
   "execution_count": 6,
   "metadata": {
    "collapsed": false
   },
   "outputs": [
    {
     "data": {
      "text/plain": [
       "DesignMatrix with shape (6, 3)\n",
       "  Intercept  C(a, contrast_mat)[pretty0]  C(a, contrast_mat)[pretty1]\n",
       "          1                            1                            2\n",
       "          1                            3                            4\n",
       "          1                            5                            6\n",
       "          1                            1                            2\n",
       "          1                            3                            4\n",
       "          1                            5                            6\n",
       "  Terms:\n",
       "    'Intercept' (column 0)\n",
       "    'C(a, contrast_mat)' (columns 1:3)"
      ]
     },
     "execution_count": 6,
     "metadata": {},
     "output_type": "execute_result"
    }
   ],
   "source": [
    "contrast_mat = ContrastMatrix(contrast, [\"[pretty0]\", \"[pretty1]\"])\n",
    "dmatrix(\"C(a, contrast_mat)\", data)"
   ]
  },
  {
   "cell_type": "code",
   "execution_count": 7,
   "metadata": {
    "collapsed": true
   },
   "outputs": [],
   "source": [
    "import pandas\n",
    "url = 'http://www.ats.ucla.edu/stat/data/hsb2.csv'\n",
    "hsb2 = pandas.read_table(url, delimiter=\",\")"
   ]
  },
  {
   "cell_type": "code",
   "execution_count": 8,
   "metadata": {
    "collapsed": false
   },
   "outputs": [
    {
     "name": "stdout",
     "output_type": "stream",
     "text": [
      "[[ 0.  0.  0.]\n",
      " [ 1.  0.  0.]\n",
      " [ 0.  1.  0.]\n",
      " [ 0.  0.  1.]]\n"
     ]
    }
   ],
   "source": [
    "from patsy.contrasts import Treatment\n",
    "\n",
    "levels = [1,2,3,4]\n",
    "contrast = Treatment(reference=0).code_without_intercept(levels)\n",
    "\n",
    "print contrast.matrix"
   ]
  },
  {
   "cell_type": "code",
   "execution_count": 9,
   "metadata": {
    "collapsed": false
   },
   "outputs": [
    {
     "data": {
      "text/plain": [
       "array([[ 0.,  0.,  1.],\n",
       "       [ 0.,  0.,  1.],\n",
       "       [ 0.,  0.,  1.],\n",
       "       [ 0.,  0.,  1.],\n",
       "       [ 0.,  0.,  1.],\n",
       "       [ 0.,  0.,  1.],\n",
       "       [ 0.,  1.,  0.],\n",
       "       [ 0.,  0.,  0.],\n",
       "       [ 0.,  0.,  1.],\n",
       "       [ 0.,  1.,  0.],\n",
       "       [ 0.,  0.,  1.],\n",
       "       [ 0.,  0.,  1.],\n",
       "       [ 0.,  0.,  1.],\n",
       "       [ 0.,  0.,  1.],\n",
       "       [ 0.,  1.,  0.],\n",
       "       [ 0.,  0.,  1.],\n",
       "       [ 0.,  0.,  1.],\n",
       "       [ 0.,  0.,  1.],\n",
       "       [ 0.,  0.,  1.],\n",
       "       [ 0.,  0.,  1.]])"
      ]
     },
     "execution_count": 9,
     "metadata": {},
     "output_type": "execute_result"
    }
   ],
   "source": [
    "contrast.matrix[hsb2.race-1, :][:20]"
   ]
  },
  {
   "cell_type": "code",
   "execution_count": 10,
   "metadata": {
    "collapsed": false
   },
   "outputs": [
    {
     "name": "stdout",
     "output_type": "stream",
     "text": [
      "                            OLS Regression Results                            \n",
      "==============================================================================\n",
      "Dep. Variable:                  write   R-squared:                       0.107\n",
      "Model:                            OLS   Adj. R-squared:                  0.093\n",
      "Method:                 Least Squares   F-statistic:                     7.833\n",
      "Date:                Sat, 04 Feb 2017   Prob (F-statistic):           5.78e-05\n",
      "Time:                        23:06:19   Log-Likelihood:                -721.77\n",
      "No. Observations:                 200   AIC:                             1452.\n",
      "Df Residuals:                     196   BIC:                             1465.\n",
      "Df Model:                           3                                         \n",
      "Covariance Type:            nonrobust                                         \n",
      "===========================================================================================\n",
      "                              coef    std err          t      P>|t|      [95.0% Conf. Int.]\n",
      "-------------------------------------------------------------------------------------------\n",
      "Intercept                  46.4583      1.842     25.218      0.000        42.825    50.091\n",
      "C(race, Treatment)[T.2]    11.5417      3.286      3.512      0.001         5.061    18.022\n",
      "C(race, Treatment)[T.3]     1.7417      2.732      0.637      0.525        -3.647     7.131\n",
      "C(race, Treatment)[T.4]     7.5968      1.989      3.820      0.000         3.675    11.519\n",
      "==============================================================================\n",
      "Omnibus:                       10.487   Durbin-Watson:                   1.779\n",
      "Prob(Omnibus):                  0.005   Jarque-Bera (JB):               11.031\n",
      "Skew:                          -0.551   Prob(JB):                      0.00402\n",
      "Kurtosis:                       2.670   Cond. No.                         8.25\n",
      "==============================================================================\n",
      "\n",
      "Warnings:\n",
      "[1] Standard Errors assume that the covariance matrix of the errors is correctly specified.\n"
     ]
    }
   ],
   "source": [
    "from statsmodels.formula.api import ols\n",
    "mod = ols(\"write ~ C(race, Treatment)\", data=hsb2)\n",
    "res = mod.fit()\n",
    "print res.summary()"
   ]
  },
  {
   "cell_type": "code",
   "execution_count": 43,
   "metadata": {
    "collapsed": false
   },
   "outputs": [
    {
     "name": "stdout",
     "output_type": "stream",
     "text": [
      "                            OLS Regression Results                            \n",
      "==============================================================================\n",
      "Dep. Variable:                  write   R-squared:                       0.107\n",
      "Model:                            OLS   Adj. R-squared:                  0.093\n",
      "Method:                 Least Squares   F-statistic:                     7.833\n",
      "Date:                Sat, 04 Feb 2017   Prob (F-statistic):           5.78e-05\n",
      "Time:                        23:32:53   Log-Likelihood:                -721.77\n",
      "No. Observations:                 200   AIC:                             1452.\n",
      "Df Residuals:                     196   BIC:                             1465.\n",
      "Df Model:                           3                                         \n",
      "Covariance Type:            nonrobust                                         \n",
      "==============================================================================================\n",
      "                                 coef    std err          t      P>|t|      [95.0% Conf. Int.]\n",
      "----------------------------------------------------------------------------------------------\n",
      "Intercept                     58.0000      2.721     21.314      0.000        52.633    63.367\n",
      "C(race, Treatment(2))[T.1]   -11.5417      3.286     -3.512      0.001       -18.022    -5.061\n",
      "C(race, Treatment(2))[T.3]    -9.8000      3.388     -2.893      0.004       -16.481    -3.119\n",
      "C(race, Treatment(2))[T.4]    -3.9448      2.823     -1.398      0.164        -9.511     1.622\n",
      "==============================================================================\n",
      "Omnibus:                       10.487   Durbin-Watson:                   1.779\n",
      "Prob(Omnibus):                  0.005   Jarque-Bera (JB):               11.031\n",
      "Skew:                          -0.551   Prob(JB):                      0.00402\n",
      "Kurtosis:                       2.670   Cond. No.                         11.2\n",
      "==============================================================================\n",
      "\n",
      "Warnings:\n",
      "[1] Standard Errors assume that the covariance matrix of the errors is correctly specified.\n"
     ]
    }
   ],
   "source": [
    "from statsmodels.formula.api import ols\n",
    "mod = ols(\"write ~ C(race, Treatment(2))\", data=hsb2)\n",
    "res = mod.fit()\n",
    "print res.summary()"
   ]
  },
  {
   "cell_type": "code",
   "execution_count": 46,
   "metadata": {
    "collapsed": false
   },
   "outputs": [
    {
     "name": "stdout",
     "output_type": "stream",
     "text": [
      "[[ 1.  0.  0.]\n",
      " [ 0.  1.  0.]\n",
      " [ 0.  0.  1.]\n",
      " [-1. -1. -1.]]\n",
      "                            OLS Regression Results                            \n",
      "==============================================================================\n",
      "Dep. Variable:                  write   R-squared:                       0.107\n",
      "Model:                            OLS   Adj. R-squared:                  0.093\n",
      "Method:                 Least Squares   F-statistic:                     7.833\n",
      "Date:                Sat, 04 Feb 2017   Prob (F-statistic):           5.78e-05\n",
      "Time:                        23:34:32   Log-Likelihood:                -721.77\n",
      "No. Observations:                 200   AIC:                             1452.\n",
      "Df Residuals:                     196   BIC:                             1465.\n",
      "Df Model:                           3                                         \n",
      "Covariance Type:            nonrobust                                         \n",
      "========================================================================================\n",
      "                           coef    std err          t      P>|t|      [95.0% Conf. Int.]\n",
      "----------------------------------------------------------------------------------------\n",
      "Intercept               51.6784      0.982     52.619      0.000        49.741    53.615\n",
      "C(race, Sum(0))[S.2]     6.3216      2.160      2.926      0.004         2.061    10.582\n",
      "C(race, Sum(0))[S.3]    -3.4784      1.732     -2.008      0.046        -6.895    -0.062\n",
      "C(race, Sum(0))[S.4]     2.3768      1.116      2.130      0.034         0.176     4.578\n",
      "==============================================================================\n",
      "Omnibus:                       10.487   Durbin-Watson:                   1.779\n",
      "Prob(Omnibus):                  0.005   Jarque-Bera (JB):               11.031\n",
      "Skew:                          -0.551   Prob(JB):                      0.00402\n",
      "Kurtosis:                       2.670   Cond. No.                         4.83\n",
      "==============================================================================\n",
      "\n",
      "Warnings:\n",
      "[1] Standard Errors assume that the covariance matrix of the errors is correctly specified.\n"
     ]
    }
   ],
   "source": [
    "from patsy.contrasts import Sum\n",
    "\n",
    "contrast = Sum().code_without_intercept(levels)\n",
    "print contrast.matrix\n",
    "mod = ols(\"write ~ C(race, Sum(0))\", data=hsb2)\n",
    "res = mod.fit()\n",
    "print res.summary()"
   ]
  },
  {
   "cell_type": "code",
   "execution_count": 15,
   "metadata": {
    "collapsed": false
   },
   "outputs": [
    {
     "data": {
      "text/plain": [
       "51.67837643678162"
      ]
     },
     "execution_count": 15,
     "metadata": {},
     "output_type": "execute_result"
    }
   ],
   "source": [
    "hsb2.groupby('race')['write'].mean().mean()"
   ]
  },
  {
   "cell_type": "code",
   "execution_count": 16,
   "metadata": {
    "collapsed": false
   },
   "outputs": [
    {
     "name": "stdout",
     "output_type": "stream",
     "text": [
      "[[-0.75 -0.5  -0.25]\n",
      " [ 0.25 -0.5  -0.25]\n",
      " [ 0.25  0.5  -0.25]\n",
      " [ 0.25  0.5   0.75]]\n",
      "                            OLS Regression Results                            \n",
      "==============================================================================\n",
      "Dep. Variable:                  write   R-squared:                       0.107\n",
      "Model:                            OLS   Adj. R-squared:                  0.093\n",
      "Method:                 Least Squares   F-statistic:                     7.833\n",
      "Date:                Sat, 04 Feb 2017   Prob (F-statistic):           5.78e-05\n",
      "Time:                        23:22:27   Log-Likelihood:                -721.77\n",
      "No. Observations:                 200   AIC:                             1452.\n",
      "Df Residuals:                     196   BIC:                             1465.\n",
      "Df Model:                           3                                         \n",
      "Covariance Type:            nonrobust                                         \n",
      "======================================================================================\n",
      "                         coef    std err          t      P>|t|      [95.0% Conf. Int.]\n",
      "--------------------------------------------------------------------------------------\n",
      "Intercept             51.6784      0.982     52.619      0.000        49.741    53.615\n",
      "C(race, Diff)[D.1]    11.5417      3.286      3.512      0.001         5.061    18.022\n",
      "C(race, Diff)[D.2]    -9.8000      3.388     -2.893      0.004       -16.481    -3.119\n",
      "C(race, Diff)[D.3]     5.8552      2.153      2.720      0.007         1.610    10.101\n",
      "==============================================================================\n",
      "Omnibus:                       10.487   Durbin-Watson:                   1.779\n",
      "Prob(Omnibus):                  0.005   Jarque-Bera (JB):               11.031\n",
      "Skew:                          -0.551   Prob(JB):                      0.00402\n",
      "Kurtosis:                       2.670   Cond. No.                         8.30\n",
      "==============================================================================\n",
      "\n",
      "Warnings:\n",
      "[1] Standard Errors assume that the covariance matrix of the errors is correctly specified.\n"
     ]
    }
   ],
   "source": [
    "from patsy.contrasts import Diff\n",
    "contrast = Diff().code_without_intercept(levels)\n",
    "print contrast.matrix\n",
    "mod = ols(\"write ~ C(race, Diff)\", data=hsb2)\n",
    "res = mod.fit()\n",
    "print res.summary()"
   ]
  },
  {
   "cell_type": "code",
   "execution_count": 17,
   "metadata": {
    "collapsed": false
   },
   "outputs": [
    {
     "data": {
      "text/plain": [
       "11.541666666666664"
      ]
     },
     "execution_count": 17,
     "metadata": {},
     "output_type": "execute_result"
    }
   ],
   "source": [
    "hsb2.groupby('race').mean()[\"write\"][2] - \\\n",
    "    hsb2.groupby('race').mean()[\"write\"][1]"
   ]
  },
  {
   "cell_type": "code",
   "execution_count": 18,
   "metadata": {
    "collapsed": false
   },
   "outputs": [
    {
     "name": "stdout",
     "output_type": "stream",
     "text": [
      "[[-1. -1. -1.]\n",
      " [ 1. -1. -1.]\n",
      " [ 0.  2. -1.]\n",
      " [ 0.  0.  3.]]\n",
      "                            OLS Regression Results                            \n",
      "==============================================================================\n",
      "Dep. Variable:                  write   R-squared:                       0.107\n",
      "Model:                            OLS   Adj. R-squared:                  0.093\n",
      "Method:                 Least Squares   F-statistic:                     7.833\n",
      "Date:                Sat, 04 Feb 2017   Prob (F-statistic):           5.78e-05\n",
      "Time:                        23:23:48   Log-Likelihood:                -721.77\n",
      "No. Observations:                 200   AIC:                             1452.\n",
      "Df Residuals:                     196   BIC:                             1465.\n",
      "Df Model:                           3                                         \n",
      "Covariance Type:            nonrobust                                         \n",
      "=========================================================================================\n",
      "                            coef    std err          t      P>|t|      [95.0% Conf. Int.]\n",
      "-----------------------------------------------------------------------------------------\n",
      "Intercept                51.6784      0.982     52.619      0.000        49.741    53.615\n",
      "C(race, Helmert)[H.2]     5.7708      1.643      3.512      0.001         2.530     9.011\n",
      "C(race, Helmert)[H.3]    -1.3431      0.867     -1.548      0.123        -3.054     0.368\n",
      "C(race, Helmert)[H.4]     0.7923      0.372      2.130      0.034         0.059     1.526\n",
      "==============================================================================\n",
      "Omnibus:                       10.487   Durbin-Watson:                   1.779\n",
      "Prob(Omnibus):                  0.005   Jarque-Bera (JB):               11.031\n",
      "Skew:                          -0.551   Prob(JB):                      0.00402\n",
      "Kurtosis:                       2.670   Cond. No.                         7.26\n",
      "==============================================================================\n",
      "\n",
      "Warnings:\n",
      "[1] Standard Errors assume that the covariance matrix of the errors is correctly specified.\n"
     ]
    }
   ],
   "source": [
    "from patsy.contrasts import Helmert\n",
    "contrast = Helmert().code_without_intercept(levels)\n",
    "print contrast.matrix\n",
    "mod = ols(\"write ~ C(race, Helmert)\", data=hsb2)\n",
    "res = mod.fit()\n",
    "print res.summary()"
   ]
  },
  {
   "cell_type": "code",
   "execution_count": 19,
   "metadata": {
    "collapsed": false
   },
   "outputs": [
    {
     "data": {
      "text/plain": [
       "3.1690613026819818"
      ]
     },
     "execution_count": 19,
     "metadata": {},
     "output_type": "execute_result"
    }
   ],
   "source": [
    "grouped = hsb2.groupby('race')\n",
    "grouped.mean()[\"write\"][4] - grouped.mean()[\"write\"][:3].mean()"
   ]
  },
  {
   "cell_type": "code",
   "execution_count": 21,
   "metadata": {
    "collapsed": false
   },
   "outputs": [
    {
     "data": {
      "text/plain": [
       "0.79226532567049546"
      ]
     },
     "execution_count": 21,
     "metadata": {},
     "output_type": "execute_result"
    }
   ],
   "source": [
    "k = 4\n",
    "1./k * (grouped.mean()[\"write\"][k] - grouped.mean()[\"write\"][:k-1].mean())\n"
   ]
  },
  {
   "cell_type": "code",
   "execution_count": 25,
   "metadata": {
    "collapsed": false
   },
   "outputs": [
    {
     "data": {
      "text/plain": [
       "readcat\n",
       "0    46.000000\n",
       "1    44.980392\n",
       "2    53.356436\n",
       "3    60.127660\n",
       "Name: write, dtype: float64"
      ]
     },
     "execution_count": 25,
     "metadata": {},
     "output_type": "execute_result"
    }
   ],
   "source": [
    "import numpy as np\n",
    "\n",
    "_, bins = np.histogram(hsb2.read, 3)\n",
    "try: # requires numpy master\n",
    "    readcat = np.digitize(hsb2.read, bins, True)\n",
    "except:\n",
    "    readcat = np.digitize(hsb2.read, bins)\n",
    "\n",
    "hsb2['readcat'] = readcat\n",
    "hsb2.groupby('readcat').mean()['write']"
   ]
  },
  {
   "cell_type": "code",
   "execution_count": 26,
   "metadata": {
    "collapsed": false
   },
   "outputs": [
    {
     "name": "stdout",
     "output_type": "stream",
     "text": [
      "[[-0.67082039  0.5        -0.2236068 ]\n",
      " [-0.2236068  -0.5         0.67082039]\n",
      " [ 0.2236068  -0.5        -0.67082039]\n",
      " [ 0.67082039  0.5         0.2236068 ]]\n",
      "                            OLS Regression Results                            \n",
      "==============================================================================\n",
      "Dep. Variable:                  write   R-squared:                       0.320\n",
      "Model:                            OLS   Adj. R-squared:                  0.309\n",
      "Method:                 Least Squares   F-statistic:                     30.73\n",
      "Date:                Sat, 04 Feb 2017   Prob (F-statistic):           2.51e-16\n",
      "Time:                        23:27:17   Log-Likelihood:                -694.54\n",
      "No. Observations:                 200   AIC:                             1397.\n",
      "Df Residuals:                     196   BIC:                             1410.\n",
      "Df Model:                           3                                         \n",
      "Covariance Type:            nonrobust                                         \n",
      "==============================================================================================\n",
      "                                 coef    std err          t      P>|t|      [95.0% Conf. Int.]\n",
      "----------------------------------------------------------------------------------------------\n",
      "Intercept                     51.1161      2.018     25.324      0.000        47.135    55.097\n",
      "C(readcat, Poly).Linear       11.3501      5.348      2.122      0.035         0.803    21.897\n",
      "C(readcat, Poly).Quadratic     3.8954      4.037      0.965      0.336        -4.066    11.857\n",
      "C(readcat, Poly).Cubic        -2.4598      1.998     -1.231      0.220        -6.400     1.480\n",
      "==============================================================================\n",
      "Omnibus:                        9.741   Durbin-Watson:                   1.699\n",
      "Prob(Omnibus):                  0.008   Jarque-Bera (JB):               10.263\n",
      "Skew:                          -0.535   Prob(JB):                      0.00591\n",
      "Kurtosis:                       2.703   Cond. No.                         13.7\n",
      "==============================================================================\n",
      "\n",
      "Warnings:\n",
      "[1] Standard Errors assume that the covariance matrix of the errors is correctly specified.\n"
     ]
    }
   ],
   "source": [
    "from patsy.contrasts import Poly\n",
    "levels = hsb2.readcat.unique().tolist()\n",
    "contrast = Poly().code_without_intercept(levels)\n",
    "print contrast.matrix\n",
    "mod = ols(\"write ~ C(readcat, Poly)\", data=hsb2)\n",
    "res = mod.fit()\n",
    "print res.summary()"
   ]
  },
  {
   "cell_type": "code",
   "execution_count": 45,
   "metadata": {
    "collapsed": false
   },
   "outputs": [
    {
     "name": "stdout",
     "output_type": "stream",
     "text": [
      "[[-0.67082039  0.5        -0.2236068 ]\n",
      " [-0.2236068  -0.5         0.67082039]\n",
      " [ 0.2236068  -0.5        -0.67082039]\n",
      " [ 0.67082039  0.5         0.2236068 ]]\n",
      "                            OLS Regression Results                            \n",
      "==============================================================================\n",
      "Dep. Variable:                  write   R-squared:                       0.320\n",
      "Model:                            OLS   Adj. R-squared:                  0.309\n",
      "Method:                 Least Squares   F-statistic:                     30.73\n",
      "Date:                Sat, 04 Feb 2017   Prob (F-statistic):           2.51e-16\n",
      "Time:                        23:33:51   Log-Likelihood:                -694.54\n",
      "No. Observations:                 200   AIC:                             1397.\n",
      "Df Residuals:                     196   BIC:                             1410.\n",
      "Df Model:                           3                                         \n",
      "Covariance Type:            nonrobust                                         \n",
      "==============================================================================================================\n",
      "                                                 coef    std err          t      P>|t|      [95.0% Conf. Int.]\n",
      "--------------------------------------------------------------------------------------------------------------\n",
      "Intercept                                     51.1161      2.018     25.324      0.000        47.135    55.097\n",
      "C(readcat, Poly([1, 2, 10, 11])).Linear       11.5006      4.435      2.593      0.010         2.753    20.248\n",
      "C(readcat, Poly([1, 2, 10, 11])).Quadratic     3.8954      4.037      0.965      0.336        -4.066    11.857\n",
      "C(readcat, Poly([1, 2, 10, 11])).Cubic         1.6157      3.595      0.449      0.654        -5.473     8.705\n",
      "==============================================================================\n",
      "Omnibus:                        9.741   Durbin-Watson:                   1.699\n",
      "Prob(Omnibus):                  0.008   Jarque-Bera (JB):               10.263\n",
      "Skew:                          -0.535   Prob(JB):                      0.00591\n",
      "Kurtosis:                       2.703   Cond. No.                         13.7\n",
      "==============================================================================\n",
      "\n",
      "Warnings:\n",
      "[1] Standard Errors assume that the covariance matrix of the errors is correctly specified.\n"
     ]
    }
   ],
   "source": [
    "from patsy.contrasts import Poly\n",
    "levels = hsb2.readcat.unique().tolist()\n",
    "contrast = Poly().code_without_intercept(levels)\n",
    "print contrast.matrix\n",
    "mod = ols(\"write ~ C(readcat, Poly([1,2,10,11]))\", data=hsb2)\n",
    "res = mod.fit()\n",
    "print res.summary()"
   ]
  },
  {
   "cell_type": "code",
   "execution_count": 39,
   "metadata": {
    "collapsed": false
   },
   "outputs": [],
   "source": [
    "from patsy.contrasts import ContrastMatrix\n",
    "def _name_levels(prefix, levels):\n",
    "    return [\"[%s%s]\" % (prefix, level) for level in levels]\n",
    "\n",
    "class Simple(object):\n",
    "    def _simple_contrast(self, levels):\n",
    "        nlevels = len(levels)\n",
    "        contr = -1./nlevels * np.ones((nlevels, nlevels-1))\n",
    "        contr[1:][np.diag_indices(nlevels-1)] = (nlevels-1.)/nlevels\n",
    "        return contr\n",
    "\n",
    "    def code_with_intercept(self, levels):\n",
    "            contrast = np.column_stack((np.ones(len(levels)),\n",
    "                                        self._simple_contrast(levels)))\n",
    "            return ContrastMatrix(contrast, _name_levels(\"Simp.\", levels))\n",
    "        \n",
    "    def code_without_intercept(self, levels):\n",
    "        contrast = np.column_stack((np.ones(len(levels)),\n",
    "                                        self._simple_contrast(levels)))\n",
    "        return ContrastMatrix(contrast, _name_levels(\"Simp.\", levels))\n",
    "        \n"
   ]
  },
  {
   "cell_type": "code",
   "execution_count": 42,
   "metadata": {
    "collapsed": false
   },
   "outputs": [
    {
     "name": "stdout",
     "output_type": "stream",
     "text": [
      "                            OLS Regression Results                            \n",
      "==============================================================================\n",
      "Dep. Variable:                  write   R-squared:                       0.107\n",
      "Model:                            OLS   Adj. R-squared:                  0.093\n",
      "Method:                 Least Squares   F-statistic:                     7.833\n",
      "Date:                Sat, 04 Feb 2017   Prob (F-statistic):           5.78e-05\n",
      "Time:                        23:31:48   Log-Likelihood:                -721.77\n",
      "No. Observations:                 200   AIC:                             1452.\n",
      "Df Residuals:                     196   BIC:                             1465.\n",
      "Df Model:                           3                                         \n",
      "Covariance Type:            nonrobust                                         \n",
      "===========================================================================================\n",
      "                              coef    std err          t      P>|t|      [95.0% Conf. Int.]\n",
      "-------------------------------------------------------------------------------------------\n",
      "C(race, Simple)[Simp.1]    51.6784      0.982     52.619      0.000        49.741    53.615\n",
      "C(race, Simple)[Simp.2]    11.5417      3.286      3.512      0.001         5.061    18.022\n",
      "C(race, Simple)[Simp.3]     1.7417      2.732      0.637      0.525        -3.647     7.131\n",
      "C(race, Simple)[Simp.4]     7.5968      1.989      3.820      0.000         3.675    11.519\n",
      "==============================================================================\n",
      "Omnibus:                       10.487   Durbin-Watson:                   1.779\n",
      "Prob(Omnibus):                  0.005   Jarque-Bera (JB):               11.031\n",
      "Skew:                          -0.551   Prob(JB):                      0.00402\n",
      "Kurtosis:                       2.670   Cond. No.                         7.03\n",
      "==============================================================================\n",
      "\n",
      "Warnings:\n",
      "[1] Standard Errors assume that the covariance matrix of the errors is correctly specified.\n"
     ]
    }
   ],
   "source": [
    "\n",
    "mod = ols(\"write ~ C(race, Simple) - 1\", data=hsb2)\n",
    "res = mod.fit()\n",
    "print res.summary()"
   ]
  },
  {
   "cell_type": "code",
   "execution_count": null,
   "metadata": {
    "collapsed": true
   },
   "outputs": [],
   "source": []
  }
 ],
 "metadata": {
  "kernelspec": {
   "display_name": "Python [conda root]",
   "language": "python",
   "name": "conda-root-py"
  },
  "language_info": {
   "codemirror_mode": {
    "name": "ipython",
    "version": 2
   },
   "file_extension": ".py",
   "mimetype": "text/x-python",
   "name": "python",
   "nbconvert_exporter": "python",
   "pygments_lexer": "ipython2",
   "version": "2.7.12"
  }
 },
 "nbformat": 4,
 "nbformat_minor": 1
}
